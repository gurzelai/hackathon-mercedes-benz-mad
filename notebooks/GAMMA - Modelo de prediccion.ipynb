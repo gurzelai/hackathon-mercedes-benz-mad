{
 "cells": [
  {
   "cell_type": "code",
   "execution_count": 1,
   "id": "01fa9c45-4a12-4779-bc03-788aee61cbdf",
   "metadata": {},
   "outputs": [],
   "source": [
    "import pandas as pd\n",
    "import numpy as np\n",
    "import seaborn as sns\n",
    "import matplotlib.pyplot as plt\n",
    "\n",
    "from sklearn.compose import make_column_selector as selector\n",
    "from sklearn.impute import SimpleImputer\n",
    "from sklearn.preprocessing import LabelEncoder\n",
    "\n",
    "from sklearn.model_selection import train_test_split\n",
    "from sklearn.metrics import r2_score,mean_squared_error\n",
    "\n",
    "from sklearn.tree import DecisionTreeRegressor\n",
    "from sklearn.linear_model import LinearRegression\n",
    "from sklearn.ensemble import RandomForestRegressor"
   ]
  },
  {
   "cell_type": "code",
   "execution_count": 2,
   "id": "2b97d136-7fc5-48f3-944d-26364f053aac",
   "metadata": {},
   "outputs": [],
   "source": [
    "pd.set_option('display.max_columns', 500)\n",
    "pd.options.display.float_format = '{:,.0f}'.format"
   ]
  },
  {
   "cell_type": "code",
   "execution_count": 3,
   "id": "b0e57632-2565-441e-8e8e-a2e221a93fb7",
   "metadata": {},
   "outputs": [],
   "source": [
    "datos = pd.read_csv(\"dataset\\Anuncios_usados.csv\")\n",
    "datos_sinprocesar = datos.copy()"
   ]
  },
  {
   "cell_type": "markdown",
   "id": "3b562910-9fd9-4509-83d1-e094289ad0ca",
   "metadata": {
    "tags": []
   },
   "source": [
    "# ESTE NOTEBOOK"
   ]
  },
  {
   "cell_type": "markdown",
   "id": "369448ed-e272-4cef-9827-8877091ee47d",
   "metadata": {},
   "source": [
    "Este notebook plantea unos modelos de prediccion de precios de coches de segunda mano teniendo en cuenta diferentes caracteristicas de los coches. Se utilzia el primer modelo planteado. El codigo de los demás modelos está en funciones no se utilizan. En caso de querer utilizar los otros modelos se tendrian que escribir las funciones: decisionTreeRegresion() o multipleLinearRegresion().\n",
    "\n",
    "Este notebook es para el hackaton organizado por la empresa de fabricante de vehículos Mercedes-Benz en 2022.\n",
    "Los recursos necesarios para el procesamiento de este notebook están en este mismo directorio."
   ]
  },
  {
   "cell_type": "markdown",
   "id": "3075a808-5186-4543-8be9-55b4d4735906",
   "metadata": {
    "jp-MarkdownHeadingCollapsed": true,
    "tags": []
   },
   "source": [
    "# Estadisticas generales de los datos"
   ]
  },
  {
   "cell_type": "code",
   "execution_count": 4,
   "id": "a4233015-ca30-4707-9aab-644bc111097f",
   "metadata": {},
   "outputs": [],
   "source": [
    "def infoGeneral(df):\n",
    "    print(f\"{df.shape[0]} muestras y \"\n",
    "          f\"{df.shape[1]} columnas\")"
   ]
  },
  {
   "cell_type": "code",
   "execution_count": 5,
   "id": "3fd3cbb9-3f57-4503-b4e9-b6ae5b3f3ee6",
   "metadata": {},
   "outputs": [
    {
     "name": "stdout",
     "output_type": "stream",
     "text": [
      "268252 muestras y 23 columnas\n"
     ]
    }
   ],
   "source": [
    "infoGeneral(datos_sinprocesar)"
   ]
  },
  {
   "cell_type": "code",
   "execution_count": 6,
   "id": "d367caa9-e990-4b65-a8cb-d5e76fda5f25",
   "metadata": {},
   "outputs": [
    {
     "data": {
      "text/html": [
       "<div>\n",
       "<style scoped>\n",
       "    .dataframe tbody tr th:only-of-type {\n",
       "        vertical-align: middle;\n",
       "    }\n",
       "\n",
       "    .dataframe tbody tr th {\n",
       "        vertical-align: top;\n",
       "    }\n",
       "\n",
       "    .dataframe thead th {\n",
       "        text-align: right;\n",
       "    }\n",
       "</style>\n",
       "<table border=\"1\" class=\"dataframe\">\n",
       "  <thead>\n",
       "    <tr style=\"text-align: right;\">\n",
       "      <th></th>\n",
       "      <th>Maker</th>\n",
       "      <th>Genmodel</th>\n",
       "      <th>Genmodel_ID</th>\n",
       "      <th>Adv_ID</th>\n",
       "      <th>Color</th>\n",
       "      <th>Reg_year</th>\n",
       "      <th>Bodytype</th>\n",
       "      <th>Runned_Miles</th>\n",
       "      <th>Engin_size</th>\n",
       "      <th>Gearbox</th>\n",
       "      <th>Fuel_type</th>\n",
       "      <th>Engine_power</th>\n",
       "      <th>Annual_Tax</th>\n",
       "      <th>Wheelbase</th>\n",
       "      <th>Height</th>\n",
       "      <th>Width</th>\n",
       "      <th>Length</th>\n",
       "      <th>Average_mpg</th>\n",
       "      <th>Top_speed</th>\n",
       "      <th>Seat_num</th>\n",
       "      <th>Door_num</th>\n",
       "      <th>Ad_Date</th>\n",
       "      <th>Price_USD</th>\n",
       "    </tr>\n",
       "  </thead>\n",
       "  <tbody>\n",
       "    <tr>\n",
       "      <th>0</th>\n",
       "      <td>Bentley</td>\n",
       "      <td>Arnage</td>\n",
       "      <td>10_1</td>\n",
       "      <td>10_1$$1</td>\n",
       "      <td>Silver</td>\n",
       "      <td>2,000</td>\n",
       "      <td>Saloon</td>\n",
       "      <td>60000</td>\n",
       "      <td>6.8L</td>\n",
       "      <td>Automatic</td>\n",
       "      <td>Petrol</td>\n",
       "      <td>NaN</td>\n",
       "      <td>NaN</td>\n",
       "      <td>3,116</td>\n",
       "      <td>1,515</td>\n",
       "      <td>2,125</td>\n",
       "      <td>5,390</td>\n",
       "      <td>NaN</td>\n",
       "      <td>NaN</td>\n",
       "      <td>5</td>\n",
       "      <td>4</td>\n",
       "      <td>April+2018</td>\n",
       "      <td>29,612</td>\n",
       "    </tr>\n",
       "    <tr>\n",
       "      <th>1</th>\n",
       "      <td>Bentley</td>\n",
       "      <td>Arnage</td>\n",
       "      <td>10_1</td>\n",
       "      <td>10_1$$2</td>\n",
       "      <td>Grey</td>\n",
       "      <td>2,002</td>\n",
       "      <td>Saloon</td>\n",
       "      <td>44000</td>\n",
       "      <td>6.8L</td>\n",
       "      <td>Automatic</td>\n",
       "      <td>Petrol</td>\n",
       "      <td>450</td>\n",
       "      <td>315</td>\n",
       "      <td>3,116</td>\n",
       "      <td>1,515</td>\n",
       "      <td>2,125</td>\n",
       "      <td>5,390</td>\n",
       "      <td>13.7 mpg</td>\n",
       "      <td>179 mph</td>\n",
       "      <td>5</td>\n",
       "      <td>4</td>\n",
       "      <td>June2018</td>\n",
       "      <td>38,196</td>\n",
       "    </tr>\n",
       "    <tr>\n",
       "      <th>2</th>\n",
       "      <td>Bentley</td>\n",
       "      <td>Arnage</td>\n",
       "      <td>10_1</td>\n",
       "      <td>10_1$$3</td>\n",
       "      <td>Blue</td>\n",
       "      <td>2,002</td>\n",
       "      <td>Saloon</td>\n",
       "      <td>55000</td>\n",
       "      <td>6.8L</td>\n",
       "      <td>Automatic</td>\n",
       "      <td>Petrol</td>\n",
       "      <td>400</td>\n",
       "      <td>315</td>\n",
       "      <td>3,116</td>\n",
       "      <td>1,515</td>\n",
       "      <td>2,125</td>\n",
       "      <td>5,390</td>\n",
       "      <td>14.7 mpg</td>\n",
       "      <td>155 mph</td>\n",
       "      <td>5</td>\n",
       "      <td>4</td>\n",
       "      <td>November!$2017</td>\n",
       "      <td>39,418</td>\n",
       "    </tr>\n",
       "    <tr>\n",
       "      <th>3</th>\n",
       "      <td>Bentley</td>\n",
       "      <td>Arnage</td>\n",
       "      <td>10_1</td>\n",
       "      <td>10_1$$4</td>\n",
       "      <td>Green</td>\n",
       "      <td>2,003</td>\n",
       "      <td>Saloon</td>\n",
       "      <td>14000</td>\n",
       "      <td>6.8L</td>\n",
       "      <td>Automatic</td>\n",
       "      <td>Petrol</td>\n",
       "      <td>NaN</td>\n",
       "      <td>NaN</td>\n",
       "      <td>3,116</td>\n",
       "      <td>1,515</td>\n",
       "      <td>2,125</td>\n",
       "      <td>5,390</td>\n",
       "      <td>NaN</td>\n",
       "      <td>NaN</td>\n",
       "      <td>5</td>\n",
       "      <td>4</td>\n",
       "      <td>April+@2018</td>\n",
       "      <td>48,134</td>\n",
       "    </tr>\n",
       "    <tr>\n",
       "      <th>4</th>\n",
       "      <td>Bentley</td>\n",
       "      <td>Arnage</td>\n",
       "      <td>10_1</td>\n",
       "      <td>10_1$$5</td>\n",
       "      <td>Grey</td>\n",
       "      <td>2,003</td>\n",
       "      <td>Saloon</td>\n",
       "      <td>61652</td>\n",
       "      <td>6.8L</td>\n",
       "      <td>Automatic</td>\n",
       "      <td>Petrol</td>\n",
       "      <td>NaN</td>\n",
       "      <td>NaN</td>\n",
       "      <td>3,116</td>\n",
       "      <td>1,515</td>\n",
       "      <td>2,125</td>\n",
       "      <td>5,390</td>\n",
       "      <td>NaN</td>\n",
       "      <td>NaN</td>\n",
       "      <td>5</td>\n",
       "      <td>4</td>\n",
       "      <td>November/2017</td>\n",
       "      <td>34,893</td>\n",
       "    </tr>\n",
       "  </tbody>\n",
       "</table>\n",
       "</div>"
      ],
      "text/plain": [
       "     Maker  Genmodel  Genmodel_ID   Adv_ID   Color  Reg_year Bodytype  \\\n",
       "0  Bentley    Arnage         10_1  10_1$$1  Silver     2,000   Saloon   \n",
       "1  Bentley    Arnage         10_1  10_1$$2    Grey     2,002   Saloon   \n",
       "2  Bentley    Arnage         10_1  10_1$$3    Blue     2,002   Saloon   \n",
       "3  Bentley    Arnage         10_1  10_1$$4   Green     2,003   Saloon   \n",
       "4  Bentley    Arnage         10_1  10_1$$5    Grey     2,003   Saloon   \n",
       "\n",
       "  Runned_Miles Engin_size    Gearbox Fuel_type  Engine_power Annual_Tax  \\\n",
       "0        60000       6.8L  Automatic    Petrol           NaN        NaN   \n",
       "1        44000       6.8L  Automatic    Petrol           450        315   \n",
       "2        55000       6.8L  Automatic    Petrol           400        315   \n",
       "3        14000       6.8L  Automatic    Petrol           NaN        NaN   \n",
       "4        61652       6.8L  Automatic    Petrol           NaN        NaN   \n",
       "\n",
       "   Wheelbase  Height  Width  Length Average_mpg Top_speed  Seat_num  Door_num  \\\n",
       "0      3,116   1,515  2,125   5,390         NaN       NaN         5         4   \n",
       "1      3,116   1,515  2,125   5,390    13.7 mpg   179 mph         5         4   \n",
       "2      3,116   1,515  2,125   5,390    14.7 mpg   155 mph         5         4   \n",
       "3      3,116   1,515  2,125   5,390         NaN       NaN         5         4   \n",
       "4      3,116   1,515  2,125   5,390         NaN       NaN         5         4   \n",
       "\n",
       "          Ad_Date  Price_USD  \n",
       "0      April+2018     29,612  \n",
       "1        June2018     38,196  \n",
       "2  November!$2017     39,418  \n",
       "3     April+@2018     48,134  \n",
       "4   November/2017     34,893  "
      ]
     },
     "execution_count": 6,
     "metadata": {},
     "output_type": "execute_result"
    }
   ],
   "source": [
    "datos.head()"
   ]
  },
  {
   "cell_type": "code",
   "execution_count": 7,
   "id": "a6fff216-7d59-4d58-a272-9a704d71467b",
   "metadata": {},
   "outputs": [
    {
     "data": {
      "text/html": [
       "<div>\n",
       "<style scoped>\n",
       "    .dataframe tbody tr th:only-of-type {\n",
       "        vertical-align: middle;\n",
       "    }\n",
       "\n",
       "    .dataframe tbody tr th {\n",
       "        vertical-align: top;\n",
       "    }\n",
       "\n",
       "    .dataframe thead th {\n",
       "        text-align: right;\n",
       "    }\n",
       "</style>\n",
       "<table border=\"1\" class=\"dataframe\">\n",
       "  <thead>\n",
       "    <tr style=\"text-align: right;\">\n",
       "      <th></th>\n",
       "      <th>Reg_year</th>\n",
       "      <th>Engine_power</th>\n",
       "      <th>Wheelbase</th>\n",
       "      <th>Height</th>\n",
       "      <th>Width</th>\n",
       "      <th>Length</th>\n",
       "      <th>Seat_num</th>\n",
       "      <th>Door_num</th>\n",
       "      <th>Price_USD</th>\n",
       "    </tr>\n",
       "  </thead>\n",
       "  <tbody>\n",
       "    <tr>\n",
       "      <th>count</th>\n",
       "      <td>268,245</td>\n",
       "      <td>236,442</td>\n",
       "      <td>240,255</td>\n",
       "      <td>240,452</td>\n",
       "      <td>240,173</td>\n",
       "      <td>240,452</td>\n",
       "      <td>261,778</td>\n",
       "      <td>263,700</td>\n",
       "      <td>252,243</td>\n",
       "    </tr>\n",
       "    <tr>\n",
       "      <th>mean</th>\n",
       "      <td>2,013</td>\n",
       "      <td>151</td>\n",
       "      <td>2,565</td>\n",
       "      <td>1,531</td>\n",
       "      <td>1,896</td>\n",
       "      <td>4,371</td>\n",
       "      <td>5</td>\n",
       "      <td>4</td>\n",
       "      <td>18,955</td>\n",
       "    </tr>\n",
       "    <tr>\n",
       "      <th>std</th>\n",
       "      <td>4</td>\n",
       "      <td>84</td>\n",
       "      <td>490</td>\n",
       "      <td>164</td>\n",
       "      <td>151</td>\n",
       "      <td>423</td>\n",
       "      <td>1</td>\n",
       "      <td>1</td>\n",
       "      <td>42,674</td>\n",
       "    </tr>\n",
       "    <tr>\n",
       "      <th>min</th>\n",
       "      <td>1,900</td>\n",
       "      <td>17</td>\n",
       "      <td>0</td>\n",
       "      <td>0</td>\n",
       "      <td>1,191</td>\n",
       "      <td>0</td>\n",
       "      <td>1</td>\n",
       "      <td>0</td>\n",
       "      <td>130</td>\n",
       "    </tr>\n",
       "    <tr>\n",
       "      <th>25%</th>\n",
       "      <td>2,010</td>\n",
       "      <td>99</td>\n",
       "      <td>2,511</td>\n",
       "      <td>1,456</td>\n",
       "      <td>1,780</td>\n",
       "      <td>4,081</td>\n",
       "      <td>5</td>\n",
       "      <td>4</td>\n",
       "      <td>6,259</td>\n",
       "    </tr>\n",
       "    <tr>\n",
       "      <th>50%</th>\n",
       "      <td>2,014</td>\n",
       "      <td>128</td>\n",
       "      <td>2,640</td>\n",
       "      <td>1,494</td>\n",
       "      <td>1,884</td>\n",
       "      <td>4,385</td>\n",
       "      <td>5</td>\n",
       "      <td>5</td>\n",
       "      <td>11,832</td>\n",
       "    </tr>\n",
       "    <tr>\n",
       "      <th>75%</th>\n",
       "      <td>2,016</td>\n",
       "      <td>175</td>\n",
       "      <td>2,752</td>\n",
       "      <td>1,624</td>\n",
       "      <td>2,020</td>\n",
       "      <td>4,672</td>\n",
       "      <td>5</td>\n",
       "      <td>5</td>\n",
       "      <td>21,821</td>\n",
       "    </tr>\n",
       "    <tr>\n",
       "      <th>max</th>\n",
       "      <td>2,019</td>\n",
       "      <td>740</td>\n",
       "      <td>5,246</td>\n",
       "      <td>2,660</td>\n",
       "      <td>2,690</td>\n",
       "      <td>6,165</td>\n",
       "      <td>17</td>\n",
       "      <td>7</td>\n",
       "      <td>12,791,457</td>\n",
       "    </tr>\n",
       "  </tbody>\n",
       "</table>\n",
       "</div>"
      ],
      "text/plain": [
       "       Reg_year  Engine_power  Wheelbase  Height   Width  Length  Seat_num  \\\n",
       "count   268,245       236,442    240,255 240,452 240,173 240,452   261,778   \n",
       "mean      2,013           151      2,565   1,531   1,896   4,371         5   \n",
       "std           4            84        490     164     151     423         1   \n",
       "min       1,900            17          0       0   1,191       0         1   \n",
       "25%       2,010            99      2,511   1,456   1,780   4,081         5   \n",
       "50%       2,014           128      2,640   1,494   1,884   4,385         5   \n",
       "75%       2,016           175      2,752   1,624   2,020   4,672         5   \n",
       "max       2,019           740      5,246   2,660   2,690   6,165        17   \n",
       "\n",
       "       Door_num  Price_USD  \n",
       "count   263,700    252,243  \n",
       "mean          4     18,955  \n",
       "std           1     42,674  \n",
       "min           0        130  \n",
       "25%           4      6,259  \n",
       "50%           5     11,832  \n",
       "75%           5     21,821  \n",
       "max           7 12,791,457  "
      ]
     },
     "execution_count": 7,
     "metadata": {},
     "output_type": "execute_result"
    }
   ],
   "source": [
    "datos.describe()"
   ]
  },
  {
   "cell_type": "code",
   "execution_count": 8,
   "id": "c27bfb21-7145-41ac-816a-4c641206637f",
   "metadata": {},
   "outputs": [
    {
     "name": "stdout",
     "output_type": "stream",
     "text": [
      "<class 'pandas.core.frame.DataFrame'>\n",
      "RangeIndex: 268252 entries, 0 to 268251\n",
      "Data columns (total 23 columns):\n",
      " #   Column        Non-Null Count   Dtype  \n",
      "---  ------        --------------   -----  \n",
      " 0   Maker         268252 non-null  object \n",
      " 1    Genmodel     268252 non-null  object \n",
      " 2    Genmodel_ID  268252 non-null  object \n",
      " 3   Adv_ID        268252 non-null  object \n",
      " 4   Color         246377 non-null  object \n",
      " 5   Reg_year      268245 non-null  float64\n",
      " 6   Bodytype      267298 non-null  object \n",
      " 7   Runned_Miles  267197 non-null  object \n",
      " 8   Engin_size    266188 non-null  object \n",
      " 9   Gearbox       268085 non-null  object \n",
      " 10  Fuel_type     267843 non-null  object \n",
      " 11  Engine_power  236442 non-null  float64\n",
      " 12  Annual_Tax    221579 non-null  object \n",
      " 13  Wheelbase     240255 non-null  float64\n",
      " 14  Height        240452 non-null  float64\n",
      " 15  Width         240173 non-null  float64\n",
      " 16  Length        240452 non-null  float64\n",
      " 17  Average_mpg   226320 non-null  object \n",
      " 18  Top_speed     224651 non-null  object \n",
      " 19  Seat_num      261778 non-null  float64\n",
      " 20  Door_num      263700 non-null  float64\n",
      " 21  Ad_Date       268252 non-null  object \n",
      " 22  Price_USD     252243 non-null  float64\n",
      "dtypes: float64(9), object(14)\n",
      "memory usage: 47.1+ MB\n"
     ]
    }
   ],
   "source": [
    "datos.info()"
   ]
  },
  {
   "cell_type": "markdown",
   "id": "cb0f4aaf-6c4a-4233-b7d5-bffd2ba05eba",
   "metadata": {
    "tags": []
   },
   "source": [
    "# Limpieza de datos"
   ]
  },
  {
   "cell_type": "markdown",
   "id": "94463d60-e7c2-4458-901f-baa67f250259",
   "metadata": {
    "tags": []
   },
   "source": [
    "## Fechas (tiene que ir antes de General)"
   ]
  },
  {
   "cell_type": "markdown",
   "id": "cd522332-d49d-461b-904c-6e69b83111df",
   "metadata": {},
   "source": [
    "Vamos a separar la columna Ad_Date en dos columnas diferentes utilizando regex."
   ]
  },
  {
   "cell_type": "code",
   "execution_count": 9,
   "id": "119e8f48-1012-48ae-852d-66cde4ee7f13",
   "metadata": {},
   "outputs": [],
   "source": [
    "datos['Month'] = datos['Ad_Date'].str.extract(r'([A-Z]+[a-z]*).*(\\d{4})')[0]\n",
    "datos['Year'] = datos['Ad_Date'].str.extract(r'([A-Z]+[a-z]*).*(\\d{4})')[1]"
   ]
  },
  {
   "cell_type": "markdown",
   "id": "1ea2066f-6cf9-4727-8bf5-54fdb201e2dc",
   "metadata": {},
   "source": [
    "## Caracteres especiales"
   ]
  },
  {
   "cell_type": "markdown",
   "id": "479662ff-81ab-4a63-bf67-cbfad70d67db",
   "metadata": {},
   "source": [
    "La columna Annual_Tax deberia de ser numerica pero vemos que tiene el caracter *. Se va a borrar este caracter de todas las celdas de esta columna. Para hacer esto se ha utilizado datos.head() y datos.info(). No se muestran en este notebook ya que ensuciarian el codigo."
   ]
  },
  {
   "cell_type": "code",
   "execution_count": 10,
   "id": "566c3c57-cf6a-4941-b305-d54ace07d225",
   "metadata": {},
   "outputs": [
    {
     "data": {
      "text/plain": [
       "0          NaN\n",
       "1          315\n",
       "2          315\n",
       "3          NaN\n",
       "4          NaN\n",
       "          ... \n",
       "268247     NaN\n",
       "268248     NaN\n",
       "268249     NaN\n",
       "268250     NaN\n",
       "268251     NaN\n",
       "Name: Annual_Tax, Length: 268252, dtype: object"
      ]
     },
     "execution_count": 10,
     "metadata": {},
     "output_type": "execute_result"
    }
   ],
   "source": [
    "def inputeAnnuel_Tax(x):\n",
    "    if isinstance(x, str):\n",
    "        return (x.replace('*',''))\n",
    "    return x\n",
    "\n",
    "datos['Annual_Tax'].map(inputeAnnuel_Tax)"
   ]
  },
  {
   "cell_type": "markdown",
   "id": "1cf00325-0072-4137-9fd7-e1669a09bcc5",
   "metadata": {
    "tags": []
   },
   "source": [
    "## Replaces"
   ]
  },
  {
   "cell_type": "markdown",
   "id": "6cbb6a07-89e5-4360-87ab-25901fa4f5c1",
   "metadata": {},
   "source": [
    "Quitamos los textos en las columnas que deben de ser de tipo int. Antes de hacer esto se observan los datos y los tipos de dato de cada columna. Para esto se puede utilizar un datos.info() y contrastar los resultados."
   ]
  },
  {
   "cell_type": "code",
   "execution_count": 11,
   "id": "61e936e5-73e7-4645-ae6f-0e8d7ca89bba",
   "metadata": {},
   "outputs": [],
   "source": [
    "datos['Top_speed'] = datos['Top_speed'].str.replace(' mph','')\n",
    "datos['Average_mpg'] = datos['Average_mpg'].str.replace(' mpg','')\n",
    "datos['Engin_size'] = datos['Engin_size'].str.replace('L','')"
   ]
  },
  {
   "cell_type": "markdown",
   "id": "ed97283a-87fe-487d-80ac-d1fa43778ba6",
   "metadata": {},
   "source": [
    "Hay algunas celdas que tienen algunos caracteres que no son numeros cuando deberian de serlo. Para esas celdas hemos hecho lo siguiente. Las convertiremos a null y despues se procesarán. \n",
    "Antes de hacer esto veremos cuantos valores nulos hay en cada columna."
   ]
  },
  {
   "cell_type": "code",
   "execution_count": 12,
   "id": "bc1308da-805a-4feb-b495-74dfa28508ef",
   "metadata": {},
   "outputs": [
    {
     "data": {
      "text/plain": [
       "Maker               0\n",
       " Genmodel           0\n",
       " Genmodel_ID        0\n",
       "Adv_ID              0\n",
       "Color           21875\n",
       "Reg_year            7\n",
       "Bodytype          954\n",
       "Runned_Miles     1055\n",
       "Engin_size       2064\n",
       "Gearbox           167\n",
       "Fuel_type         409\n",
       "Engine_power    31810\n",
       "Annual_Tax      46673\n",
       "Wheelbase       27997\n",
       "Height          27800\n",
       "Width           28079\n",
       "Length          27800\n",
       "Average_mpg     41932\n",
       "Top_speed       43601\n",
       "Seat_num         6474\n",
       "Door_num         4552\n",
       "Ad_Date             0\n",
       "Price_USD       16009\n",
       "Month               0\n",
       "Year                0\n",
       "dtype: int64"
      ]
     },
     "execution_count": 12,
     "metadata": {},
     "output_type": "execute_result"
    }
   ],
   "source": [
    "datos.isnull().sum()"
   ]
  },
  {
   "cell_type": "code",
   "execution_count": 13,
   "id": "5c899314-b7c9-4abb-9d86-38db25b6af1b",
   "metadata": {},
   "outputs": [],
   "source": [
    "datos['Runned_Miles'] = pd.to_numeric(datos['Runned_Miles'], errors='coerce')\n",
    "datos['Engin_size'] = pd.to_numeric(datos['Engin_size'], errors='coerce')\n",
    "datos['Annual_Tax'] = pd.to_numeric(datos['Annual_Tax'], errors='coerce')\n",
    "datos['Average_mpg'] = pd.to_numeric(datos['Average_mpg'], errors='coerce')\n",
    "datos['Top_speed'] = pd.to_numeric(datos['Top_speed'], errors='coerce')\n",
    "datos['Year'] = pd.to_numeric(datos['Year'], errors='coerce') #tiene que ir después de #Fechas"
   ]
  },
  {
   "cell_type": "markdown",
   "id": "aeaaac85-5e2d-43da-8fb0-0d9bb7394998",
   "metadata": {},
   "source": [
    "El nombre de la columna tiene un espacio de más por lo que,"
   ]
  },
  {
   "cell_type": "code",
   "execution_count": 14,
   "id": "b01fcd81-44b4-4621-b74b-b1700c5408be",
   "metadata": {},
   "outputs": [],
   "source": [
    "datos.rename(columns={' Genmodel_ID':'Genmodel_ID'},\n",
    "               inplace=True)"
   ]
  },
  {
   "cell_type": "markdown",
   "id": "6c06ac94-6f68-4ce0-8564-fd9388214026",
   "metadata": {},
   "source": [
    "Como la hemos separado anteriormente en dos columnas diferentes se elimina."
   ]
  },
  {
   "cell_type": "code",
   "execution_count": 15,
   "id": "6d6ffc77-ef5f-4ef5-b838-d5999011ac90",
   "metadata": {},
   "outputs": [],
   "source": [
    "datos = datos.drop(columns=['Ad_Date'], axis=1)"
   ]
  },
  {
   "cell_type": "markdown",
   "id": "c0a301b0-8ed2-4678-9847-b2702483b1c0",
   "metadata": {},
   "source": [
    "Vamos los datos que tenemos en null. Como se ve en Runned_Miles, ahora tenemos mas nulos que anteriormente ya que hemos convertido a nulo las celdas que no eran numeros."
   ]
  },
  {
   "cell_type": "code",
   "execution_count": 16,
   "id": "edc9efd9-e5a1-4cbd-b717-0ae12e8ae3f3",
   "metadata": {},
   "outputs": [
    {
     "data": {
      "text/plain": [
       "Maker               0\n",
       " Genmodel           0\n",
       "Genmodel_ID         0\n",
       "Adv_ID              0\n",
       "Color           21875\n",
       "Reg_year            7\n",
       "Bodytype          954\n",
       "Runned_Miles     1313\n",
       "Engin_size       2064\n",
       "Gearbox           167\n",
       "Fuel_type         409\n",
       "Engine_power    31810\n",
       "Annual_Tax      81510\n",
       "Wheelbase       27997\n",
       "Height          27800\n",
       "Width           28079\n",
       "Length          27800\n",
       "Average_mpg     41932\n",
       "Top_speed       43601\n",
       "Seat_num         6474\n",
       "Door_num         4552\n",
       "Price_USD       16009\n",
       "Month               0\n",
       "Year                0\n",
       "dtype: int64"
      ]
     },
     "execution_count": 16,
     "metadata": {},
     "output_type": "execute_result"
    }
   ],
   "source": [
    "datos.isnull().sum()"
   ]
  },
  {
   "cell_type": "markdown",
   "id": "27915467-1902-4e31-bc10-435393dcd5d9",
   "metadata": {
    "tags": []
   },
   "source": [
    "## Quitar nulos"
   ]
  },
  {
   "cell_type": "markdown",
   "id": "33ac08e7-357e-4b77-8a44-fdebddff1023",
   "metadata": {},
   "source": [
    "Ahora vamos a tratar los valores nulos."
   ]
  },
  {
   "cell_type": "code",
   "execution_count": 17,
   "id": "956b92f7-08f1-427b-aa06-fdc996ec8368",
   "metadata": {},
   "outputs": [
    {
     "data": {
      "text/plain": [
       "Maker               0\n",
       " Genmodel           0\n",
       "Genmodel_ID         0\n",
       "Adv_ID              0\n",
       "Color           21875\n",
       "Reg_year            7\n",
       "Bodytype          954\n",
       "Runned_Miles     1313\n",
       "Engin_size       2064\n",
       "Gearbox           167\n",
       "Fuel_type         409\n",
       "Engine_power    31810\n",
       "Annual_Tax      81510\n",
       "Wheelbase       27997\n",
       "Height          27800\n",
       "Width           28079\n",
       "Length          27800\n",
       "Average_mpg     41932\n",
       "Top_speed       43601\n",
       "Seat_num         6474\n",
       "Door_num         4552\n",
       "Price_USD       16009\n",
       "Month               0\n",
       "Year                0\n",
       "dtype: int64"
      ]
     },
     "execution_count": 17,
     "metadata": {},
     "output_type": "execute_result"
    }
   ],
   "source": [
    "datos = datos.replace('?',np.NaN)\n",
    "datos.isnull().sum()"
   ]
  },
  {
   "cell_type": "markdown",
   "id": "d66d213c-a547-4b33-b144-46f4c084211e",
   "metadata": {},
   "source": [
    "Se muestran las columnas numericas y la cantidad de valores nulos de cada una."
   ]
  },
  {
   "cell_type": "code",
   "execution_count": 18,
   "id": "1cac1767-aeff-41c8-b6da-7ed159b8c35d",
   "metadata": {},
   "outputs": [
    {
     "data": {
      "text/plain": [
       "Reg_year            7\n",
       "Runned_Miles     1313\n",
       "Engin_size       2064\n",
       "Engine_power    31810\n",
       "Annual_Tax      81510\n",
       "Wheelbase       27997\n",
       "Height          27800\n",
       "Width           28079\n",
       "Length          27800\n",
       "Average_mpg     41932\n",
       "Top_speed       43601\n",
       "Seat_num         6474\n",
       "Door_num         4552\n",
       "Price_USD       16009\n",
       "Year                0\n",
       "dtype: int64"
      ]
     },
     "execution_count": 18,
     "metadata": {},
     "output_type": "execute_result"
    }
   ],
   "source": [
    "selectorNumericos = selector(dtype_include=np.number)\n",
    "numericas = selectorNumericos(datos)\n",
    "datos[numericas].isnull().sum()"
   ]
  },
  {
   "cell_type": "markdown",
   "id": "4c19f1c5-356f-42a0-aa64-1309eff223f5",
   "metadata": {},
   "source": [
    "Vamos a utilizar la media de las celdas de esa misma columna para rellenar las celdas que tengan valores nulos."
   ]
  },
  {
   "cell_type": "code",
   "execution_count": 19,
   "id": "6d2f8738-935c-488b-94f3-c04db3156959",
   "metadata": {},
   "outputs": [],
   "source": [
    "imputer = SimpleImputer(missing_values=np.nan, strategy='mean')\n",
    "\n",
    "for n in numericas:\n",
    "    datos[n] = imputer.fit_transform(datos[[n]])"
   ]
  },
  {
   "cell_type": "markdown",
   "id": "9daa62d2-3ada-4743-9c80-9c8a52976353",
   "metadata": {},
   "source": [
    "Vamos a hacer lo mismo que anteriormente, pero en esta ocasion con tipos de dato object. Estas celdas se rellenarán con los valores que mas se repitan en su respectiva columna."
   ]
  },
  {
   "cell_type": "code",
   "execution_count": 20,
   "id": "f88ae2ee-84b1-4f7d-b745-05768cd79aef",
   "metadata": {},
   "outputs": [],
   "source": [
    "selectorCategoricos = selector(dtype_include=object)\n",
    "categoricas = selectorCategoricos(datos)\n",
    "\n",
    "imputer = SimpleImputer(missing_values=np.nan, strategy='most_frequent')\n",
    "\n",
    "for c in categoricas:\n",
    "    datos[c] = imputer.fit_transform(datos[[c]])"
   ]
  },
  {
   "cell_type": "markdown",
   "id": "00c9f467-b8f0-4464-bef7-04e2e1770a20",
   "metadata": {},
   "source": [
    "Ninguna celda tiene un valor nulo."
   ]
  },
  {
   "cell_type": "code",
   "execution_count": 21,
   "id": "3c6eea49-00b4-4e1e-88a4-50f61da7392d",
   "metadata": {},
   "outputs": [
    {
     "data": {
      "text/plain": [
       "Maker           0\n",
       " Genmodel       0\n",
       "Genmodel_ID     0\n",
       "Adv_ID          0\n",
       "Color           0\n",
       "Reg_year        0\n",
       "Bodytype        0\n",
       "Runned_Miles    0\n",
       "Engin_size      0\n",
       "Gearbox         0\n",
       "Fuel_type       0\n",
       "Engine_power    0\n",
       "Annual_Tax      0\n",
       "Wheelbase       0\n",
       "Height          0\n",
       "Width           0\n",
       "Length          0\n",
       "Average_mpg     0\n",
       "Top_speed       0\n",
       "Seat_num        0\n",
       "Door_num        0\n",
       "Price_USD       0\n",
       "Month           0\n",
       "Year            0\n",
       "dtype: int64"
      ]
     },
     "execution_count": 21,
     "metadata": {},
     "output_type": "execute_result"
    }
   ],
   "source": [
    "datos.isnull().sum()"
   ]
  },
  {
   "cell_type": "markdown",
   "id": "782426c5-cd9f-48f2-beb2-4a56257ec411",
   "metadata": {
    "jp-MarkdownHeadingCollapsed": true,
    "tags": []
   },
   "source": [
    "# Datos procesados para BRIAN"
   ]
  },
  {
   "cell_type": "markdown",
   "id": "76331944-40b7-4e48-9cbf-92ddea4ee242",
   "metadata": {},
   "source": [
    "Para el uso de visualizacion de datos y el manejo de datos en crudo se va a generar un documento .csv con los datos limpios.\n",
    "Esto lo hacemos antes de utilizar el EncoderLabel ya que eso haría que los datos no se pudieran entender."
   ]
  },
  {
   "cell_type": "code",
   "execution_count": 22,
   "id": "60b744cc-11e1-4c09-a7f0-3644ae6a8be2",
   "metadata": {},
   "outputs": [],
   "source": [
    "datos_limpios = datos.copy()"
   ]
  },
  {
   "cell_type": "markdown",
   "id": "e1b3715b-4920-4640-8b07-2a98b9ff64af",
   "metadata": {},
   "source": [
    "#### Creacion de CSV en exterior [ESCRIBIR DIRECTORIO ENTRE LAS COMILLAS, SI NO, ESTARÁ EN EL DIRECTORIO DE ESTE NOTEBOOK]"
   ]
  },
  {
   "cell_type": "code",
   "execution_count": 23,
   "id": "941b2ba2-b6f3-4bb3-ac76-d1973a21a54f",
   "metadata": {},
   "outputs": [],
   "source": [
    "directorio = '' #C:\\Users\\\n",
    "nombre_archivo = 'anuncios_limpios.csv'"
   ]
  },
  {
   "cell_type": "code",
   "execution_count": 24,
   "id": "d20a085d-a8bd-454d-89d0-96667a5c6dc8",
   "metadata": {},
   "outputs": [],
   "source": [
    "datos.to_csv(directorio+nombre_archivo, index=False)"
   ]
  },
  {
   "cell_type": "markdown",
   "id": "9f71ad58-3a0f-4b9e-8091-793c8fe92f2a",
   "metadata": {
    "tags": []
   },
   "source": [
    "# Visualizar datos"
   ]
  },
  {
   "cell_type": "markdown",
   "id": "60f21af6-4e17-44ba-9045-91941d5bb321",
   "metadata": {},
   "source": [
    "Ahora se van a visualizar algunos datos para ver relaciones ente columnas. \n",
    "También para datos de interés."
   ]
  },
  {
   "cell_type": "markdown",
   "id": "bfe3c52e-f139-4022-9700-757dbec9577b",
   "metadata": {
    "tags": []
   },
   "source": [
    "#### Datos TOP_SPEED"
   ]
  },
  {
   "cell_type": "markdown",
   "id": "432be4b1-96aa-400b-87c9-cb5b706792e1",
   "metadata": {},
   "source": [
    "Vamos a ver de forma grafica la cantidad de coches que se venden de segunda mano, ralacionando esta cantidad con la velocidad maxima del coche."
   ]
  },
  {
   "cell_type": "code",
   "execution_count": 25,
   "id": "69dacc81-1470-4083-851f-866460635987",
   "metadata": {},
   "outputs": [
    {
     "data": {
      "text/plain": [
       "count   268,252\n",
       "mean        122\n",
       "std          17\n",
       "min          11\n",
       "25%         112\n",
       "50%         122\n",
       "75%         129\n",
       "max         226\n",
       "Name: Top_speed, dtype: float64"
      ]
     },
     "execution_count": 25,
     "metadata": {},
     "output_type": "execute_result"
    }
   ],
   "source": [
    "datos['Top_speed'].describe()"
   ]
  },
  {
   "cell_type": "code",
   "execution_count": 26,
   "id": "c597515c-3553-4f7c-b4c6-52d55fbc9bfd",
   "metadata": {},
   "outputs": [
    {
     "data": {
      "image/png": "[encoded data removed]",
      "text/plain": [
       "<Figure size 800x300 with 1 Axes>"
      ]
     },
     "metadata": {},
     "output_type": "display_data"
    }
   ],
   "source": [
    "bins = [0, 25, 50, 75, 100, 125, 150, 175, 200, 225, 250, 275]\n",
    "_ = datos['Top_speed'].hist(figsize=(8, 3), bins=bins)"
   ]
  },
  {
   "cell_type": "code",
   "execution_count": 27,
   "id": "59afad4b-2011-4fdb-9934-c3ceecb56285",
   "metadata": {},
   "outputs": [
    {
     "data": {
      "text/plain": [
       "<seaborn.axisgrid.FacetGrid at 0x18f0803c880>"
      ]
     },
     "execution_count": 27,
     "metadata": {},
     "output_type": "execute_result"
    },
    {
     "data": {
      "image/png": "[encoded data removed]",
      "text/plain": [
       "<Figure size 600x600 with 1 Axes>"
      ]
     },
     "metadata": {},
     "output_type": "display_data"
    }
   ],
   "source": [
    "g = sns.catplot(x=\"Top_speed\", y=\"Price_USD\", data=datos, kind='bar', height = 6)\n",
    "g.despine(left = True)\n",
    "g.set_ylabels(\"Relacion precio - max velocidad\")"
   ]
  },
  {
   "cell_type": "markdown",
   "id": "be6d74ce-5ca2-4811-8899-f7cd14665123",
   "metadata": {
    "tags": []
   },
   "source": [
    "# Creacion de modelo"
   ]
  },
  {
   "cell_type": "markdown",
   "id": "2ac2efbe-68af-4ea0-8248-170d785fc740",
   "metadata": {},
   "source": [
    "Ahora se va a crear el modelo de prediccion para el precio.\n",
    "Antes de eso vamos a cambiar los valores categoricos. Vamos a darles un valor numerico para que sean mas faciles de procesar."
   ]
  },
  {
   "cell_type": "markdown",
   "id": "7431de4e-6328-401e-8e74-75db4751724d",
   "metadata": {
    "jp-MarkdownHeadingCollapsed": true,
    "tags": []
   },
   "source": [
    "## Encoder & Normalizacion y Estandarizacion"
   ]
  },
  {
   "cell_type": "markdown",
   "id": "ebdb72a9-ddd2-4592-878c-e9d524fe2d10",
   "metadata": {
    "tags": []
   },
   "source": [
    "### Encoder"
   ]
  },
  {
   "cell_type": "markdown",
   "id": "e6013ab8-0474-4040-bd9c-fda80cad34ab",
   "metadata": {},
   "source": [
    "Tomamos todos los valores de tipo object pero quitamos las columnas de ID ya que no vamos a utilizarlas para la prediccion"
   ]
  },
  {
   "cell_type": "code",
   "execution_count": 28,
   "id": "417c6cd2-6a75-4f05-9ae4-29438a634eab",
   "metadata": {},
   "outputs": [
    {
     "data": {
      "text/html": [
       "<div>\n",
       "<style scoped>\n",
       "    .dataframe tbody tr th:only-of-type {\n",
       "        vertical-align: middle;\n",
       "    }\n",
       "\n",
       "    .dataframe tbody tr th {\n",
       "        vertical-align: top;\n",
       "    }\n",
       "\n",
       "    .dataframe thead th {\n",
       "        text-align: right;\n",
       "    }\n",
       "</style>\n",
       "<table border=\"1\" class=\"dataframe\">\n",
       "  <thead>\n",
       "    <tr style=\"text-align: right;\">\n",
       "      <th></th>\n",
       "      <th>Maker</th>\n",
       "      <th>Genmodel</th>\n",
       "      <th>Genmodel_ID</th>\n",
       "      <th>Adv_ID</th>\n",
       "      <th>Color</th>\n",
       "      <th>Reg_year</th>\n",
       "      <th>Bodytype</th>\n",
       "      <th>Runned_Miles</th>\n",
       "      <th>Engin_size</th>\n",
       "      <th>Gearbox</th>\n",
       "      <th>Fuel_type</th>\n",
       "      <th>Engine_power</th>\n",
       "      <th>Annual_Tax</th>\n",
       "      <th>Wheelbase</th>\n",
       "      <th>Height</th>\n",
       "      <th>Width</th>\n",
       "      <th>Length</th>\n",
       "      <th>Average_mpg</th>\n",
       "      <th>Top_speed</th>\n",
       "      <th>Seat_num</th>\n",
       "      <th>Door_num</th>\n",
       "      <th>Price_USD</th>\n",
       "      <th>Month</th>\n",
       "      <th>Year</th>\n",
       "    </tr>\n",
       "  </thead>\n",
       "  <tbody>\n",
       "    <tr>\n",
       "      <th>0</th>\n",
       "      <td>5</td>\n",
       "      <td>153</td>\n",
       "      <td>10_1</td>\n",
       "      <td>10_1$$1</td>\n",
       "      <td>18</td>\n",
       "      <td>2,000</td>\n",
       "      <td>15</td>\n",
       "      <td>60,000</td>\n",
       "      <td>7</td>\n",
       "      <td>0</td>\n",
       "      <td>9</td>\n",
       "      <td>151</td>\n",
       "      <td>159</td>\n",
       "      <td>3,116</td>\n",
       "      <td>1,515</td>\n",
       "      <td>2,125</td>\n",
       "      <td>5,390</td>\n",
       "      <td>51</td>\n",
       "      <td>122</td>\n",
       "      <td>5</td>\n",
       "      <td>4</td>\n",
       "      <td>29,612</td>\n",
       "      <td>0</td>\n",
       "      <td>2,018</td>\n",
       "    </tr>\n",
       "    <tr>\n",
       "      <th>1</th>\n",
       "      <td>5</td>\n",
       "      <td>153</td>\n",
       "      <td>10_1</td>\n",
       "      <td>10_1$$2</td>\n",
       "      <td>8</td>\n",
       "      <td>2,002</td>\n",
       "      <td>15</td>\n",
       "      <td>44,000</td>\n",
       "      <td>7</td>\n",
       "      <td>0</td>\n",
       "      <td>9</td>\n",
       "      <td>450</td>\n",
       "      <td>315</td>\n",
       "      <td>3,116</td>\n",
       "      <td>1,515</td>\n",
       "      <td>2,125</td>\n",
       "      <td>5,390</td>\n",
       "      <td>14</td>\n",
       "      <td>179</td>\n",
       "      <td>5</td>\n",
       "      <td>4</td>\n",
       "      <td>38,196</td>\n",
       "      <td>6</td>\n",
       "      <td>2,018</td>\n",
       "    </tr>\n",
       "    <tr>\n",
       "      <th>2</th>\n",
       "      <td>5</td>\n",
       "      <td>153</td>\n",
       "      <td>10_1</td>\n",
       "      <td>10_1$$3</td>\n",
       "      <td>2</td>\n",
       "      <td>2,002</td>\n",
       "      <td>15</td>\n",
       "      <td>55,000</td>\n",
       "      <td>7</td>\n",
       "      <td>0</td>\n",
       "      <td>9</td>\n",
       "      <td>400</td>\n",
       "      <td>315</td>\n",
       "      <td>3,116</td>\n",
       "      <td>1,515</td>\n",
       "      <td>2,125</td>\n",
       "      <td>5,390</td>\n",
       "      <td>15</td>\n",
       "      <td>155</td>\n",
       "      <td>5</td>\n",
       "      <td>4</td>\n",
       "      <td>39,418</td>\n",
       "      <td>9</td>\n",
       "      <td>2,017</td>\n",
       "    </tr>\n",
       "    <tr>\n",
       "      <th>3</th>\n",
       "      <td>5</td>\n",
       "      <td>153</td>\n",
       "      <td>10_1</td>\n",
       "      <td>10_1$$4</td>\n",
       "      <td>7</td>\n",
       "      <td>2,003</td>\n",
       "      <td>15</td>\n",
       "      <td>14,000</td>\n",
       "      <td>7</td>\n",
       "      <td>0</td>\n",
       "      <td>9</td>\n",
       "      <td>151</td>\n",
       "      <td>159</td>\n",
       "      <td>3,116</td>\n",
       "      <td>1,515</td>\n",
       "      <td>2,125</td>\n",
       "      <td>5,390</td>\n",
       "      <td>51</td>\n",
       "      <td>122</td>\n",
       "      <td>5</td>\n",
       "      <td>4</td>\n",
       "      <td>48,134</td>\n",
       "      <td>0</td>\n",
       "      <td>2,018</td>\n",
       "    </tr>\n",
       "    <tr>\n",
       "      <th>4</th>\n",
       "      <td>5</td>\n",
       "      <td>153</td>\n",
       "      <td>10_1</td>\n",
       "      <td>10_1$$5</td>\n",
       "      <td>8</td>\n",
       "      <td>2,003</td>\n",
       "      <td>15</td>\n",
       "      <td>61,652</td>\n",
       "      <td>7</td>\n",
       "      <td>0</td>\n",
       "      <td>9</td>\n",
       "      <td>151</td>\n",
       "      <td>159</td>\n",
       "      <td>3,116</td>\n",
       "      <td>1,515</td>\n",
       "      <td>2,125</td>\n",
       "      <td>5,390</td>\n",
       "      <td>51</td>\n",
       "      <td>122</td>\n",
       "      <td>5</td>\n",
       "      <td>4</td>\n",
       "      <td>34,893</td>\n",
       "      <td>9</td>\n",
       "      <td>2,017</td>\n",
       "    </tr>\n",
       "  </tbody>\n",
       "</table>\n",
       "</div>"
      ],
      "text/plain": [
       "   Maker   Genmodel Genmodel_ID   Adv_ID  Color  Reg_year  Bodytype  \\\n",
       "0      5        153        10_1  10_1$$1     18     2,000        15   \n",
       "1      5        153        10_1  10_1$$2      8     2,002        15   \n",
       "2      5        153        10_1  10_1$$3      2     2,002        15   \n",
       "3      5        153        10_1  10_1$$4      7     2,003        15   \n",
       "4      5        153        10_1  10_1$$5      8     2,003        15   \n",
       "\n",
       "   Runned_Miles  Engin_size  Gearbox  Fuel_type  Engine_power  Annual_Tax  \\\n",
       "0        60,000           7        0          9           151         159   \n",
       "1        44,000           7        0          9           450         315   \n",
       "2        55,000           7        0          9           400         315   \n",
       "3        14,000           7        0          9           151         159   \n",
       "4        61,652           7        0          9           151         159   \n",
       "\n",
       "   Wheelbase  Height  Width  Length  Average_mpg  Top_speed  Seat_num  \\\n",
       "0      3,116   1,515  2,125   5,390           51        122         5   \n",
       "1      3,116   1,515  2,125   5,390           14        179         5   \n",
       "2      3,116   1,515  2,125   5,390           15        155         5   \n",
       "3      3,116   1,515  2,125   5,390           51        122         5   \n",
       "4      3,116   1,515  2,125   5,390           51        122         5   \n",
       "\n",
       "   Door_num  Price_USD  Month  Year  \n",
       "0         4     29,612      0 2,018  \n",
       "1         4     38,196      6 2,018  \n",
       "2         4     39,418      9 2,017  \n",
       "3         4     48,134      0 2,018  \n",
       "4         4     34,893      9 2,017  "
      ]
     },
     "execution_count": 28,
     "metadata": {},
     "output_type": "execute_result"
    }
   ],
   "source": [
    "selectorCategoricos = selector(dtype_include=object)\n",
    "categoricas = selectorCategoricos(datos)\n",
    "categoricas.remove('Genmodel_ID')\n",
    "categoricas.remove('Adv_ID')\n",
    "encoder = LabelEncoder()\n",
    "for c in categoricas:\n",
    "    datos[c] = encoder.fit_transform(datos[c])\n",
    "datos.head()"
   ]
  },
  {
   "cell_type": "code",
   "execution_count": 29,
   "id": "e1abf5db-b29f-4e38-b3f9-5ad041256e9f",
   "metadata": {},
   "outputs": [
    {
     "data": {
      "text/plain": [
       "1    170998\n",
       "0     97117\n",
       "2       137\n",
       "Name: Gearbox, dtype: int64"
      ]
     },
     "execution_count": 29,
     "metadata": {},
     "output_type": "execute_result"
    }
   ],
   "source": [
    "datos['Gearbox'].value_counts() #está bien"
   ]
  },
  {
   "cell_type": "markdown",
   "id": "aa8ad0eb-4e2c-490b-baa0-a6453c85a45c",
   "metadata": {},
   "source": [
    "Podriamos tambien hacerlo con los numericos pero da peores resultados."
   ]
  },
  {
   "cell_type": "code",
   "execution_count": 30,
   "id": "d71a3695-9a53-4535-8b46-8ac06dc885b1",
   "metadata": {},
   "outputs": [
    {
     "data": {
      "text/plain": [
       "'\\nselectorNumericos = selector(dtype_include=np.number)\\nnumericas = selectorNumericos(datos)\\nencoder = LabelEncoder()\\nfor c in categoricas:\\n    datos[c] = encoder.fit_transform(datos[c])\\n'"
      ]
     },
     "execution_count": 30,
     "metadata": {},
     "output_type": "execute_result"
    }
   ],
   "source": [
    "'''\n",
    "selectorNumericos = selector(dtype_include=np.number)\n",
    "numericas = selectorNumericos(datos)\n",
    "encoder = LabelEncoder()\n",
    "for c in categoricas:\n",
    "    datos[c] = encoder.fit_transform(datos[c])\n",
    "'''"
   ]
  },
  {
   "cell_type": "code",
   "execution_count": 31,
   "id": "888b42c2-9c14-4bdb-b921-72cdb86ebe6a",
   "metadata": {},
   "outputs": [
    {
     "data": {
      "text/plain": [
       "5    177541\n",
       "3     32956\n",
       "4     29568\n",
       "2     23464\n",
       "4      4552\n",
       "6       169\n",
       "7         1\n",
       "0         1\n",
       "Name: Door_num, dtype: int64"
      ]
     },
     "execution_count": 31,
     "metadata": {},
     "output_type": "execute_result"
    }
   ],
   "source": [
    "datos['Door_num'].value_counts()"
   ]
  },
  {
   "cell_type": "markdown",
   "id": "86299739-150d-4574-a7b9-9c35bc52a6fb",
   "metadata": {},
   "source": [
    "### Normalizacion y estandarizacion"
   ]
  },
  {
   "cell_type": "markdown",
   "id": "cb0c2352-4f18-4115-8e68-50c0e63309ca",
   "metadata": {},
   "source": [
    "No se van a cambiar los datos"
   ]
  },
  {
   "cell_type": "markdown",
   "id": "3cff603b-03fe-418f-8e94-6a7dc5666608",
   "metadata": {
    "jp-MarkdownHeadingCollapsed": true,
    "tags": []
   },
   "source": [
    "## Guardado de datos"
   ]
  },
  {
   "cell_type": "markdown",
   "id": "f0e30574-eef8-4431-9c75-3889f8ac61be",
   "metadata": {},
   "source": [
    "Se guardan los datos para utilizarlos en diferentes notebooks."
   ]
  },
  {
   "cell_type": "code",
   "execution_count": 32,
   "id": "df552ba4-b3da-4a59-9606-9fd48f8c352a",
   "metadata": {},
   "outputs": [],
   "source": [
    "datos.to_csv('anuncios_antes_de_modelo.csv', index=False)"
   ]
  },
  {
   "cell_type": "markdown",
   "id": "7a7650b0-4dec-47a9-a681-dd8bd540b345",
   "metadata": {
    "jp-MarkdownHeadingCollapsed": true,
    "tags": []
   },
   "source": [
    "## Prueba con testeo a mano"
   ]
  },
  {
   "cell_type": "markdown",
   "id": "f81e3823-7ac0-41af-94a8-09b6d4ac8896",
   "metadata": {},
   "source": [
    "Se crea la funcion de un test rapido para probar."
   ]
  },
  {
   "cell_type": "code",
   "execution_count": 33,
   "id": "7b3ecaa6-0ce1-4fe9-acab-81ec72fa249f",
   "metadata": {},
   "outputs": [],
   "source": [
    "def testManual(regressor):\n",
    "    x_test = pd.DataFrame(columns=('Maker', ' Genmodel', 'Color', 'Reg_year', 'Bodytype', 'Runned_Miles',\n",
    "       'Engin_size', 'Gearbox', 'Fuel_type', 'Engine_power', 'Annual_Tax',\n",
    "       'Wheelbase', 'Height', 'Width', 'Length', 'Average_mpg', 'Top_speed',\n",
    "       'Seat_num', 'Door_num', 'Month', 'Year'))\n",
    "    x_test.loc[0] = (1,1,2,2012,4,100000,1,1,2,140,140,1,255,45,45,102,205,2,4,2,5)\n",
    "\n",
    "    precio_estimado = regressor.predict(x_test)\n",
    "\n",
    "    print('Precio estimado: '+ str(precio_estimado))"
   ]
  },
  {
   "cell_type": "markdown",
   "id": "8e8807f0-a389-4e5e-bf1c-7e7384e0dbd3",
   "metadata": {
    "tags": []
   },
   "source": [
    "## Random Forest Regression"
   ]
  },
  {
   "cell_type": "markdown",
   "id": "d709c0fc-76c0-4414-9669-38118e6a20bb",
   "metadata": {},
   "source": [
    "Se va a utilizar Random Forest Regressio para crear un modelo"
   ]
  },
  {
   "cell_type": "markdown",
   "id": "69ba0e30-8e54-4307-833a-2220246d38fa",
   "metadata": {},
   "source": [
    "De todos los datos que tenemos en el dataframe datos vamos a coger los datos que no sean del año 2021"
   ]
  },
  {
   "cell_type": "code",
   "execution_count": 34,
   "id": "d24d258b-bce5-4d26-8653-82820963a473",
   "metadata": {},
   "outputs": [],
   "source": [
    "X = datos[datos['Year'] != 2021]"
   ]
  },
  {
   "cell_type": "markdown",
   "id": "c473970a-f729-4baf-ab8b-f9c9574546f5",
   "metadata": {},
   "source": [
    "De esos datos, vamos a eliminar la columna que vamos a predecir, y otras columnas que no queremos que el modelo aprenda"
   ]
  },
  {
   "cell_type": "code",
   "execution_count": 35,
   "id": "9a91a1fc-a016-4470-84df-a4ec300d5492",
   "metadata": {},
   "outputs": [],
   "source": [
    "X = datos.drop(columns=['Price_USD', 'Genmodel_ID', 'Adv_ID'], axis=1)\n",
    "y = datos['Price_USD'].values\n",
    "\n",
    "X_train, X_test, y_train, y_test = train_test_split(X, y, test_size = 0.25, random_state = 0)"
   ]
  },
  {
   "cell_type": "markdown",
   "id": "694827ed-306d-4515-b560-4b70cfcb0d33",
   "metadata": {},
   "source": [
    "Entrenamos el modelo, esto suele llevar 5 minutos aproximadamente."
   ]
  },
  {
   "cell_type": "code",
   "execution_count": 36,
   "id": "4e4bb464-35c7-4c1f-b5be-d2b47dbb8fc8",
   "metadata": {},
   "outputs": [
    {
     "name": "stdout",
     "output_type": "stream",
     "text": [
      "Wall time: 20.9 s\n"
     ]
    },
    {
     "data": {
      "text/plain": [
       "RandomForestRegressor(n_estimators=10, random_state=0)"
      ]
     },
     "execution_count": 36,
     "metadata": {},
     "output_type": "execute_result"
    }
   ],
   "source": [
    "%%time\n",
    "\n",
    "regressor = RandomForestRegressor(n_estimators = 10, random_state = 0)\n",
    "regressor.fit(X_train, y_train)"
   ]
  },
  {
   "cell_type": "markdown",
   "id": "e7baa101-74b6-4620-8324-37956ad8be1f",
   "metadata": {},
   "source": [
    "Haces predicciones de los resultados."
   ]
  },
  {
   "cell_type": "code",
   "execution_count": 37,
   "id": "e0f9573d-b9bb-43ca-b382-c20b773a6cd2",
   "metadata": {},
   "outputs": [],
   "source": [
    "y_pred = regressor.predict(X_test)\n",
    "Y_train_pred = regressor.predict(X_train)\n",
    "np.set_printoptions(precision=2)"
   ]
  },
  {
   "cell_type": "code",
   "execution_count": 38,
   "id": "aab33beb-4899-468c-b664-1979d85ad604",
   "metadata": {},
   "outputs": [
    {
     "name": "stdout",
     "output_type": "stream",
     "text": [
      "Metricas de prediccion de test\n",
      "R2 Test: 0.500479225707661\n",
      "rmse Test: 22185.622439605533\n",
      "\n",
      "Metricas de prediccion de training\n",
      "R2 Train: 0.8456353578231146\n",
      "rmse Train: 17370.75977877877\n"
     ]
    }
   ],
   "source": [
    "print('Metricas de prediccion de test')\n",
    "print('R2 Test: '+str(r2_score(y_test,y_pred)))\n",
    "print('rmse Test: '+str(mean_squared_error(y_test,y_pred,squared=False)))\n",
    "print('')\n",
    "\n",
    "print('Metricas de prediccion de training')\n",
    "print('R2 Train: '+str(r2_score(y_train,Y_train_pred)))\n",
    "print('rmse Train: '+str(mean_squared_error(y_train,Y_train_pred,squared=False)))"
   ]
  },
  {
   "cell_type": "markdown",
   "id": "85702dec-4cb1-48e7-a172-0295650cbcc6",
   "metadata": {},
   "source": [
    "Vamos a ver con el test manual que precio nos indica."
   ]
  },
  {
   "cell_type": "code",
   "execution_count": 39,
   "id": "1626164b-a66c-4dcd-948a-1cd216daff02",
   "metadata": {},
   "outputs": [
    {
     "name": "stdout",
     "output_type": "stream",
     "text": [
      "Precio estimado: [573327.35]\n"
     ]
    }
   ],
   "source": [
    "testManual(regressor)"
   ]
  },
  {
   "cell_type": "markdown",
   "id": "af27f92b-61b1-46ef-887e-b576583e60dc",
   "metadata": {
    "jp-MarkdownHeadingCollapsed": true,
    "tags": []
   },
   "source": [
    "El resultado final es que con los datos de entrenamiento R2 es de 0.84 lo cual no es un valor muy alto pero está bastante bien.\n",
    "El R2 del test si que es un poco bajo, 0.50. Es un resultado más bajo de lo que se podría esperar."
   ]
  },
  {
   "cell_type": "markdown",
   "id": "89776dc4-abdc-483a-a513-707d59f31cd3",
   "metadata": {
    "tags": []
   },
   "source": [
    "## Decision Tree Regression"
   ]
  },
  {
   "cell_type": "markdown",
   "id": "3b7a9344-4085-414f-a494-bc61cf9d5566",
   "metadata": {},
   "source": [
    "En este modelo se ve que el modelo se ha entrenado mal y ha sido overfiteado ya que el R2 del training es 0.99."
   ]
  },
  {
   "cell_type": "markdown",
   "id": "58b74245-7c6f-4195-99c1-816fc7b0e885",
   "metadata": {},
   "source": [
    "Se procede a hacer el mismo procedimiento que el anterior pero se cambia el tipo de regresion que queremos utilizar."
   ]
  },
  {
   "cell_type": "markdown",
   "id": "e5d7d8d5-b958-49b0-9d8d-4d7be0d7e7b3",
   "metadata": {
    "tags": []
   },
   "source": [
    "#### Overfiteado"
   ]
  },
  {
   "cell_type": "code",
   "execution_count": 40,
   "id": "3dcc3cb8-6cc3-4501-a4d8-cfd8d10a6ff8",
   "metadata": {},
   "outputs": [],
   "source": [
    "def decisionTreeRegresion():\n",
    "    X = datos.drop(columns=['Price_USD', 'Genmodel_ID', 'Adv_ID'], axis=1)\n",
    "    y = datos['Price_USD'].values\n",
    "\n",
    "    X_train, X_test, y_train, y_test = train_test_split(X, y, test_size = 0.2, random_state = 0)\n",
    "\n",
    "    regressor = DecisionTreeRegressor(random_state = 0)\n",
    "    regressor.fit(X_train, y_train)\n",
    "\n",
    "    y_pred = regressor.predict(X_test)\n",
    "    Y_train_pred = regressor.predict(X_train)\n",
    "    np.set_printoptions(precision=2)\n",
    "\n",
    "    print('Metricas de prediccion de test')\n",
    "    print('R2 Test: '+str(r2_score(y_test,y_pred)))\n",
    "    print('rmse Test: '+str(mean_squared_error(y_test,y_pred,squared=False)))\n",
    "    print('')\n",
    "    print('Metricas de prediccion de training')\n",
    "    print('R2 Train: '+str(r2_score(y_train,Y_train_pred)))\n",
    "    print('rmse Train: '+str(mean_squared_error(y_train,Y_train_pred,squared=False)))"
   ]
  },
  {
   "cell_type": "markdown",
   "id": "9e528921-811f-44f6-b118-73a92af627f8",
   "metadata": {
    "tags": []
   },
   "source": [
    "## Multiple Linear Regression"
   ]
  },
  {
   "cell_type": "markdown",
   "id": "9500e7bc-edc4-4152-80d1-ac03d594934c",
   "metadata": {},
   "source": [
    "En este modelo de prediccion tenemos resultado muy malos. Tenemos peores resultados en el training que en el testing."
   ]
  },
  {
   "cell_type": "code",
   "execution_count": 41,
   "id": "77e5c1a0-ad1a-4aa1-92eb-db584ec77064",
   "metadata": {},
   "outputs": [],
   "source": [
    "def multipleLinearRegresion():\n",
    "    X = datos.drop(columns=['Price_USD', 'Genmodel_ID', 'Adv_ID'], axis=1)\n",
    "    y = datos['Price_USD'].values\n",
    "\n",
    "    X_train, X_test, y_train, y_test = train_test_split(X, y, test_size = 0.25, random_state = 0)\n",
    "\n",
    "    regressor = LinearRegression()\n",
    "    regressor.fit(X_train, y_train)\n",
    "\n",
    "    y_pred = regressor.predict(X_test)\n",
    "    Y_train_pred = regressor.predict(X_train)\n",
    "    np.set_printoptions(precision=2)\n",
    "\n",
    "    print('Metricas de prediccion de test')\n",
    "    print('R2 Test: '+str(r2_score(y_test,y_pred)))\n",
    "    print('rmse Test: '+str(mean_squared_error(y_test,y_pred,squared=False)))\n",
    "    print('')\n",
    "    print('Metricas de prediccion de training')\n",
    "    print('R2 Train: '+str(r2_score(y_train,Y_train_pred)))\n",
    "    print('rmse Train: '+str(mean_squared_error(y_train,Y_train_pred,squared=False)))"
   ]
  },
  {
   "cell_type": "markdown",
   "id": "20fdc15b-8368-433a-ae28-ae5614697071",
   "metadata": {
    "tags": []
   },
   "source": [
    "## Random Forest Regression 1 top speed y precio"
   ]
  },
  {
   "cell_type": "markdown",
   "id": "4dcf76a6-5767-4846-9e2c-ff1f81ccc037",
   "metadata": {},
   "source": [
    "Se quería hacer un modelo que predijera el precio al que se venderia el coche de segunda mano dependiendo de su velocidad maxima. Así se podría saber si realmente merece la pena esforzarse en aumentar la velocidad punta de los vehiculos cara a la venta de segunda mano.\n",
    "Es un modelo que todavía para implementar."
   ]
  },
  {
   "cell_type": "code",
   "execution_count": 42,
   "id": "8d30e398-b41b-48ab-8127-cc1201ce1540",
   "metadata": {},
   "outputs": [
    {
     "data": {
      "text/plain": [
       "\"\\nX_grid = np.arange(min(X['Top_speed']), max(X['Top_speed']), 0.01)\\nX_grid = X_grid.reshape((len(X_grid), 1))\\nplt.scatter(X['Top_speed'], y, color = 'red')\\nplt.plot(X_grid, regressor.predict(X_grid), color = 'blue')\\nplt.title('Truth or Bluff (Random Forest Regression)')\\nplt.xlabel('Position level')\\nplt.ylabel('Salary')\\nplt.show()\\n\""
      ]
     },
     "execution_count": 42,
     "metadata": {},
     "output_type": "execute_result"
    }
   ],
   "source": [
    "'''\n",
    "X_grid = np.arange(min(X['Top_speed']), max(X['Top_speed']), 0.01)\n",
    "X_grid = X_grid.reshape((len(X_grid), 1))\n",
    "plt.scatter(X['Top_speed'], y, color = 'red')\n",
    "plt.plot(X_grid, regressor.predict(X_grid), color = 'blue')\n",
    "plt.title('Truth or Bluff (Random Forest Regression)')\n",
    "plt.xlabel('Position level')\n",
    "plt.ylabel('Salary')\n",
    "plt.show()\n",
    "'''"
   ]
  },
  {
   "cell_type": "markdown",
   "id": "bf7c6871-434a-448c-a188-4250f7d6bf5f",
   "metadata": {},
   "source": [
    "# Scoring"
   ]
  },
  {
   "cell_type": "markdown",
   "id": "1cac8953-a9cc-40aa-9d44-1f7846a97998",
   "metadata": {},
   "source": [
    "Aqui se procesan los datos y con regressor se hace un prediccion.\n",
    "Se tienen en cuenta los requisitos de entrega del hackaton.\n"
   ]
  },
  {
   "cell_type": "markdown",
   "id": "8402d160-e0c8-4d0b-98f4-480c6ce05785",
   "metadata": {
    "jp-MarkdownHeadingCollapsed": true,
    "tags": []
   },
   "source": [
    "#### Requisitos"
   ]
  },
  {
   "cell_type": "markdown",
   "id": "b0946bed-a61d-4f46-b33c-fd1fee756ad9",
   "metadata": {},
   "source": [
    "Nombre del archivo : \"XX-talenthighway-prediction.csv\"\n",
    "\n",
    "Consideraciones :\n",
    "1. Debe ser guardado en formato .csv\n",
    "2. Debe contener dos columnas ordenadas de la siguiente manera; por filas ['adv_id', 'price'], por columnas de manera ascendente por 'adv_id'.\n",
    "3. Debe incluir el header.\n",
    "4. La columna 'adv_id' debe estar en formato string y la columna 'price' en formato float.\n",
    "5. Debe tener un tamaño de 14864 filas (14865 contando el header).\n",
    "6. Debe tener todos los valores llenos (no nulos) y cada uno debe ser único (sin duplicados)"
   ]
  },
  {
   "cell_type": "markdown",
   "id": "59fe3087-48a7-4b76-ad2d-e4f278e78a38",
   "metadata": {
    "tags": []
   },
   "source": [
    "#### Tener en cuenta el modelo(regressor) que se está utilizando"
   ]
  },
  {
   "cell_type": "code",
   "execution_count": 43,
   "id": "b97865b0-3309-40f6-9540-ffceaea77376",
   "metadata": {},
   "outputs": [],
   "source": [
    "scoring = datos[datos['Year'] == 2021]"
   ]
  },
  {
   "cell_type": "code",
   "execution_count": 44,
   "id": "f6fbb399-66f0-47b0-8bf8-bf3e59721e4b",
   "metadata": {},
   "outputs": [],
   "source": [
    "pred = regressor.predict(scoring.drop(columns=['Price_USD', 'Genmodel_ID', 'Adv_ID'], axis=1))"
   ]
  },
  {
   "cell_type": "code",
   "execution_count": 45,
   "id": "7ac256ed-7715-4598-9670-00d621ebc3da",
   "metadata": {},
   "outputs": [],
   "source": [
    "scoring = scoring[['Adv_ID']]"
   ]
  },
  {
   "cell_type": "code",
   "execution_count": 46,
   "id": "3b4ad916-deee-4e89-accd-2960df42a394",
   "metadata": {},
   "outputs": [],
   "source": [
    "scoring['price'] = pred"
   ]
  },
  {
   "cell_type": "code",
   "execution_count": 47,
   "id": "179520cf-2b25-4ec7-b4d2-784000408680",
   "metadata": {},
   "outputs": [],
   "source": [
    "scoring.rename(columns={'Adv_ID':'adv_id'},\n",
    "               inplace=True)"
   ]
  },
  {
   "cell_type": "code",
   "execution_count": 48,
   "id": "aa949fcb-50b0-466b-8aae-dd1a12f7c796",
   "metadata": {},
   "outputs": [
    {
     "data": {
      "text/html": [
       "<div>\n",
       "<style scoped>\n",
       "    .dataframe tbody tr th:only-of-type {\n",
       "        vertical-align: middle;\n",
       "    }\n",
       "\n",
       "    .dataframe tbody tr th {\n",
       "        vertical-align: top;\n",
       "    }\n",
       "\n",
       "    .dataframe thead th {\n",
       "        text-align: right;\n",
       "    }\n",
       "</style>\n",
       "<table border=\"1\" class=\"dataframe\">\n",
       "  <thead>\n",
       "    <tr style=\"text-align: right;\">\n",
       "      <th></th>\n",
       "      <th>adv_id</th>\n",
       "      <th>price</th>\n",
       "    </tr>\n",
       "  </thead>\n",
       "  <tbody>\n",
       "    <tr>\n",
       "      <th>162</th>\n",
       "      <td>10_3$$132</td>\n",
       "      <td>18,955</td>\n",
       "    </tr>\n",
       "    <tr>\n",
       "      <th>163</th>\n",
       "      <td>10_3$$133</td>\n",
       "      <td>18,955</td>\n",
       "    </tr>\n",
       "    <tr>\n",
       "      <th>164</th>\n",
       "      <td>10_3$$134</td>\n",
       "      <td>18,955</td>\n",
       "    </tr>\n",
       "    <tr>\n",
       "      <th>165</th>\n",
       "      <td>10_3$$135</td>\n",
       "      <td>18,955</td>\n",
       "    </tr>\n",
       "    <tr>\n",
       "      <th>166</th>\n",
       "      <td>10_3$$136</td>\n",
       "      <td>18,955</td>\n",
       "    </tr>\n",
       "  </tbody>\n",
       "</table>\n",
       "</div>"
      ],
      "text/plain": [
       "        adv_id  price\n",
       "162  10_3$$132 18,955\n",
       "163  10_3$$133 18,955\n",
       "164  10_3$$134 18,955\n",
       "165  10_3$$135 18,955\n",
       "166  10_3$$136 18,955"
      ]
     },
     "execution_count": 48,
     "metadata": {},
     "output_type": "execute_result"
    }
   ],
   "source": [
    "scoring.head()"
   ]
  },
  {
   "cell_type": "code",
   "execution_count": 49,
   "id": "4992dd52-6ae1-4058-a4e7-f91fca1506d7",
   "metadata": {},
   "outputs": [],
   "source": [
    "scoring.to_csv('GAMMA-talenthighway-prediction.csv', index=False)"
   ]
  },
  {
   "cell_type": "code",
   "execution_count": 50,
   "id": "d8a255f9-5237-4ebf-bba8-714ec2ba4b2e",
   "metadata": {},
   "outputs": [
    {
     "data": {
      "text/plain": [
       "18,955    3446\n",
       "18,955    1749\n",
       "18,955    1267\n",
       "18,955     829\n",
       "18,955     812\n",
       "          ... \n",
       "23,185       1\n",
       "49,193       1\n",
       "18,979       1\n",
       "20,153       1\n",
       "19,290       1\n",
       "Name: price, Length: 185, dtype: int64"
      ]
     },
     "execution_count": 50,
     "metadata": {},
     "output_type": "execute_result"
    }
   ],
   "source": [
    "scoring.price.value_counts()"
   ]
  },
  {
   "cell_type": "code",
   "execution_count": 51,
   "id": "2205d5f7-f7ee-4bdc-b6f4-63c5a087739f",
   "metadata": {},
   "outputs": [
    {
     "data": {
      "text/plain": [
       "(14864, 2)"
      ]
     },
     "execution_count": 51,
     "metadata": {},
     "output_type": "execute_result"
    }
   ],
   "source": [
    "scoring.shape"
   ]
  }
 ],
 "metadata": {
  "kernelspec": {
   "display_name": "Python 3 (ipykernel)",
   "language": "python",
   "name": "python3"
  },
  "language_info": {
   "codemirror_mode": {
    "name": "ipython",
    "version": 3
   },
   "file_extension": ".py",
   "mimetype": "text/x-python",
   "name": "python",
   "nbconvert_exporter": "python",
   "pygments_lexer": "ipython3",
   "version": "3.9.13"
  }
 },
 "nbformat": 4,
 "nbformat_minor": 5
}
